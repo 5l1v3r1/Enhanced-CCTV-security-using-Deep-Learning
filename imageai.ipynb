{
  "nbformat": 4,
  "nbformat_minor": 0,
  "metadata": {
    "colab": {
      "name": "imageai.ipynb",
      "provenance": [],
      "include_colab_link": true
    },
    "kernelspec": {
      "name": "python3",
      "display_name": "Python 3"
    },
    "accelerator": "GPU"
  },
  "cells": [
    {
      "cell_type": "markdown",
      "metadata": {
        "id": "view-in-github",
        "colab_type": "text"
      },
      "source": [
        "<a href=\"https://colab.research.google.com/github/VirtualGoat/Enhanced-CCTV-security-using-DL/blob/master/imageai.ipynb\" target=\"_parent\"><img src=\"https://colab.research.google.com/assets/colab-badge.svg\" alt=\"Open In Colab\"/></a>"
      ]
    },
    {
      "cell_type": "code",
      "metadata": {
        "id": "lau2hAev6NZC",
        "colab_type": "code",
        "colab": {}
      },
      "source": [
        "!pip install imageAI"
      ],
      "execution_count": 0,
      "outputs": []
    },
    {
      "cell_type": "code",
      "metadata": {
        "id": "9F8Ttlq57Ww7",
        "colab_type": "code",
        "colab": {
          "base_uri": "https://localhost:8080/",
          "height": 128
        },
        "outputId": "e92f0335-518d-4cde-a9b6-1237ef49897e"
      },
      "source": [
        "from google.colab import drive\n",
        "import os\n",
        "drive.mount('/content/drive/')"
      ],
      "execution_count": 5,
      "outputs": [
        {
          "output_type": "stream",
          "text": [
            "Go to this URL in a browser: https://accounts.google.com/o/oauth2/auth?client_id=947318989803-6bn6qk8qdgf4n4g3pfee6491hc0brc4i.apps.googleusercontent.com&redirect_uri=urn%3aietf%3awg%3aoauth%3a2.0%3aoob&response_type=code&scope=email%20https%3a%2f%2fwww.googleapis.com%2fauth%2fdocs.test%20https%3a%2f%2fwww.googleapis.com%2fauth%2fdrive%20https%3a%2f%2fwww.googleapis.com%2fauth%2fdrive.photos.readonly%20https%3a%2f%2fwww.googleapis.com%2fauth%2fpeopleapi.readonly\n",
            "\n",
            "Enter your authorization code:\n",
            "··········\n",
            "Mounted at /content/drive/\n"
          ],
          "name": "stdout"
        }
      ]
    },
    {
      "cell_type": "code",
      "metadata": {
        "id": "LBNthsBo6o24",
        "colab_type": "code",
        "colab": {
          "base_uri": "https://localhost:8080/",
          "height": 253
        },
        "outputId": "85c21315-1dc5-45fa-ee66-8c6a0b9a53d9"
      },
      "source": [
        "from imageai.Detection import ObjectDetection\n",
        "\n",
        "detector = ObjectDetection()\n",
        "\n",
        "model_path = \"/content/drive/My Drive/Colab Notebooks/ImageAI/resnet50_coco_best_v2.0.1.h5\"\n",
        "input_path = \"/content/drive/My Drive/Colab Notebooks/ImageAI/a.jpg\"\n",
        "output_path = \"/content/drive/My Drive/Colab Notebooks/ImageAI/a3.jpg\"\n",
        "\n",
        "#detector.setModelTypeAsYOLOv3()\n",
        "detector.setModelTypeAsRetinaNet()   \n",
        "\n",
        "detector.setModelPath(model_path)\n",
        "\n",
        "detector.loadModel()\n",
        "\n",
        "detection = detector.detectObjectsFromImage(input_image=input_path, output_image_path=output_path)\n",
        "\n",
        "for eachItem in detection:\n",
        "    print(eachItem[\"name\"] , \" : \", eachItem[\"percentage_probability\"])\n",
        "\n",
        "\n"
      ],
      "execution_count": 11,
      "outputs": [
        {
          "output_type": "stream",
          "text": [
            "car  :  84.49889421463013\n",
            "person  :  57.87697434425354\n",
            "person  :  76.996910572052\n",
            "person  :  86.57629489898682\n",
            "person  :  75.05322694778442\n",
            "person  :  91.8962836265564\n",
            "person  :  88.98624777793884\n",
            "person  :  67.21959710121155\n",
            "person  :  66.36773347854614\n",
            "person  :  87.26763725280762\n",
            "person  :  79.5071005821228\n",
            "car  :  54.712867736816406\n",
            "person  :  98.83538484573364\n"
          ],
          "name": "stdout"
        }
      ]
    }
  ]
}