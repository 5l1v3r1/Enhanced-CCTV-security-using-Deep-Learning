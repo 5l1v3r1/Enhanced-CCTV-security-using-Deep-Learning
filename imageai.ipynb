{
  "nbformat": 4,
  "nbformat_minor": 0,
  "metadata": {
    "colab": {
      "name": "imageai.ipynb",
      "provenance": [],
      "collapsed_sections": [],
      "include_colab_link": true
    },
    "kernelspec": {
      "name": "python3",
      "display_name": "Python 3"
    },
    "accelerator": "GPU"
  },
  "cells": [
    {
      "cell_type": "markdown",
      "metadata": {
        "id": "view-in-github",
        "colab_type": "text"
      },
      "source": [
        "<a href=\"https://colab.research.google.com/github/VirtualGoat/Enhanced-CCTV-security-using-Deep-Learning/blob/master/imageai.ipynb\" target=\"_parent\"><img src=\"https://colab.research.google.com/assets/colab-badge.svg\" alt=\"Open In Colab\"/></a>"
      ]
    },
    {
      "cell_type": "code",
      "metadata": {
        "id": "lau2hAev6NZC",
        "colab_type": "code",
        "outputId": "7e0b3fed-e116-4a0a-e1aa-ba3c0013e1db",
        "colab": {
          "base_uri": "https://localhost:8080/",
          "height": 239
        }
      },
      "source": [
        "!pip install imageAI"
      ],
      "execution_count": 5,
      "outputs": [
        {
          "output_type": "stream",
          "text": [
            "Requirement already satisfied: imageAI in /usr/local/lib/python3.6/dist-packages (2.1.5)\n",
            "Requirement already satisfied: h5py in /usr/local/lib/python3.6/dist-packages (from imageAI) (2.8.0)\n",
            "Requirement already satisfied: numpy in /usr/local/lib/python3.6/dist-packages (from imageAI) (1.17.5)\n",
            "Requirement already satisfied: scipy in /usr/local/lib/python3.6/dist-packages (from imageAI) (1.4.1)\n",
            "Requirement already satisfied: pillow in /usr/local/lib/python3.6/dist-packages (from imageAI) (6.2.2)\n",
            "Requirement already satisfied: matplotlib in /usr/local/lib/python3.6/dist-packages (from imageAI) (3.1.2)\n",
            "Requirement already satisfied: six in /usr/local/lib/python3.6/dist-packages (from h5py->imageAI) (1.12.0)\n",
            "Requirement already satisfied: kiwisolver>=1.0.1 in /usr/local/lib/python3.6/dist-packages (from matplotlib->imageAI) (1.1.0)\n",
            "Requirement already satisfied: pyparsing!=2.0.4,!=2.1.2,!=2.1.6,>=2.0.1 in /usr/local/lib/python3.6/dist-packages (from matplotlib->imageAI) (2.4.6)\n",
            "Requirement already satisfied: python-dateutil>=2.1 in /usr/local/lib/python3.6/dist-packages (from matplotlib->imageAI) (2.6.1)\n",
            "Requirement already satisfied: cycler>=0.10 in /usr/local/lib/python3.6/dist-packages (from matplotlib->imageAI) (0.10.0)\n",
            "Requirement already satisfied: setuptools in /usr/local/lib/python3.6/dist-packages (from kiwisolver>=1.0.1->matplotlib->imageAI) (42.0.2)\n"
          ],
          "name": "stdout"
        }
      ]
    },
    {
      "cell_type": "code",
      "metadata": {
        "id": "JJNTpC25OLZn",
        "colab_type": "code",
        "colab": {
          "base_uri": "https://localhost:8080/",
          "height": 35
        },
        "outputId": "d3b047bf-bdee-445e-a09f-63d93c59f9e0"
      },
      "source": [
        "from google.colab import drive\n",
        "import os\n",
        "drive.mount('/content/drive/')"
      ],
      "execution_count": 6,
      "outputs": [
        {
          "output_type": "stream",
          "text": [
            "Drive already mounted at /content/drive/; to attempt to forcibly remount, call drive.mount(\"/content/drive/\", force_remount=True).\n"
          ],
          "name": "stdout"
        }
      ]
    },
    {
      "cell_type": "code",
      "metadata": {
        "id": "SB3KWcUcNLJY",
        "colab_type": "code",
        "colab": {
          "base_uri": "https://localhost:8080/",
          "height": 257
        },
        "outputId": "06e3d3ae-2503-4922-c351-bbaee55786b5"
      },
      "source": [
        "# Normal Image object detection\n",
        "\n",
        "\n",
        "\n",
        "from imageai.Detection import ObjectDetection\n",
        "\n",
        "detector = ObjectDetection()\n",
        "\n",
        "model_path = \"/content/drive/My Drive/Colab Notebooks/ImageAI/resnet.h5\"\n",
        "input_path = \"/content/drive/My Drive/Colab Notebooks/ImageAI/a.jpg\"\n",
        "output_path = \"/content/drive/My Drive/Colab Notebooks/ImageAI/a2.jpg\"\n",
        "\n",
        "#detector.setModelTypeAsYOLOv3()\n",
        "detector.setModelTypeAsRetinaNet()   \n",
        "\n",
        "detector.setModelPath(model_path)\n",
        "\n",
        "detector.loadModel()\n",
        "\n",
        "detection = detector.detectObjectsFromImage(input_image=input_path, output_image_path=output_path)\n",
        "\n",
        "for eachItem in detection:\n",
        "    print(eachItem[\"name\"] , \" : \", eachItem[\"percentage_probability\"])\n",
        "\n",
        "\n"
      ],
      "execution_count": 8,
      "outputs": [
        {
          "output_type": "stream",
          "text": [
            "car  :  84.49889421463013\n",
            "person  :  57.87697434425354\n",
            "person  :  76.996910572052\n",
            "person  :  86.57629489898682\n",
            "person  :  75.05322694778442\n",
            "person  :  91.8962836265564\n",
            "person  :  88.98624777793884\n",
            "person  :  67.21959710121155\n",
            "person  :  66.36773347854614\n",
            "person  :  87.26763725280762\n",
            "person  :  79.5071005821228\n",
            "car  :  54.712867736816406\n",
            "person  :  98.83538484573364\n"
          ],
          "name": "stdout"
        }
      ]
    },
    {
      "cell_type": "code",
      "metadata": {
        "id": "mxB5k_SSD8oO",
        "colab_type": "code",
        "outputId": "bbc2dc95-23be-4839-aaa3-84c29731078d",
        "colab": {
          "base_uri": "https://localhost:8080/",
          "height": 776
        }
      },
      "source": [
        "# Crop objects from image. \n",
        "\n",
        "\n",
        "from imageai.Detection import ObjectDetection\n",
        "import os\n",
        "\n",
        "execution_path = '/content/drive/My Drive/Colab Notebooks/ImageAI/'\n",
        "\n",
        "detector = ObjectDetection()\n",
        "detector.setModelTypeAsYOLOv3()\n",
        "detector.setModelPath( os.path.join(execution_path , \"yolo.h5\"))\n",
        "detector.loadModel()\n",
        "\n",
        "detections, objects_path = detector.detectObjectsFromImage(input_image=os.path.join(execution_path , \"a.jpg\"), output_image_path=os.path.join(execution_path , \"a3new.jpg\"), minimum_percentage_probability=30,  extract_detected_objects=True)\n",
        "\n",
        "for eachObject, eachObjectPath in zip(detections, objects_path):\n",
        "    print(eachObject[\"name\"] , \" : \" , eachObject[\"percentage_probability\"], \" : \", eachObject[\"box_points\"] )\n",
        "    print(\"Object's image saved in \" + eachObjectPath)\n",
        "    print(\"--------------------------------\")"
      ],
      "execution_count": 9,
      "outputs": [
        {
          "output_type": "stream",
          "text": [
            "WARNING:tensorflow:From /usr/local/lib/python3.6/dist-packages/keras/backend/tensorflow_backend.py:148: The name tf.placeholder_with_default is deprecated. Please use tf.compat.v1.placeholder_with_default instead.\n",
            "\n",
            "WARNING:tensorflow:From /usr/local/lib/python3.6/dist-packages/keras/backend/tensorflow_backend.py:2239: The name tf.image.resize_nearest_neighbor is deprecated. Please use tf.compat.v1.image.resize_nearest_neighbor instead.\n",
            "\n",
            "car  :  35.11095345020294  :  [2317, 1735, 2446, 1859]\n",
            "Object's image saved in /content/drive/My Drive/Colab Notebooks/ImageAI/a3new.jpg-objects/car-1.jpg\n",
            "--------------------------------\n",
            "person  :  35.83814799785614  :  [235, 1808, 399, 2105]\n",
            "Object's image saved in /content/drive/My Drive/Colab Notebooks/ImageAI/a3new.jpg-objects/person-2.jpg\n",
            "--------------------------------\n",
            "person  :  62.302494049072266  :  [1829, 1742, 1919, 2028]\n",
            "Object's image saved in /content/drive/My Drive/Colab Notebooks/ImageAI/a3new.jpg-objects/person-3.jpg\n",
            "--------------------------------\n",
            "person  :  74.44946765899658  :  [910, 1840, 1109, 2531]\n",
            "Object's image saved in /content/drive/My Drive/Colab Notebooks/ImageAI/a3new.jpg-objects/person-4.jpg\n",
            "--------------------------------\n",
            "person  :  93.17049384117126  :  [3567, 1872, 3701, 2153]\n",
            "Object's image saved in /content/drive/My Drive/Colab Notebooks/ImageAI/a3new.jpg-objects/person-5.jpg\n",
            "--------------------------------\n",
            "person  :  97.42758274078369  :  [0, 1809, 264, 2698]\n",
            "Object's image saved in /content/drive/My Drive/Colab Notebooks/ImageAI/a3new.jpg-objects/person-6.jpg\n",
            "--------------------------------\n",
            "person  :  98.53876829147339  :  [324, 1862, 627, 2599]\n",
            "Object's image saved in /content/drive/My Drive/Colab Notebooks/ImageAI/a3new.jpg-objects/person-7.jpg\n",
            "--------------------------------\n",
            "person  :  99.02594089508057  :  [1913, 1737, 2054, 2143]\n",
            "Object's image saved in /content/drive/My Drive/Colab Notebooks/ImageAI/a3new.jpg-objects/person-8.jpg\n",
            "--------------------------------\n",
            "person  :  99.30195808410645  :  [2393, 1773, 2606, 2409]\n",
            "Object's image saved in /content/drive/My Drive/Colab Notebooks/ImageAI/a3new.jpg-objects/person-9.jpg\n",
            "--------------------------------\n",
            "person  :  99.61227774620056  :  [2104, 1736, 2307, 2323]\n",
            "Object's image saved in /content/drive/My Drive/Colab Notebooks/ImageAI/a3new.jpg-objects/person-10.jpg\n",
            "--------------------------------\n",
            "person  :  99.62245225906372  :  [1675, 1707, 1807, 2121]\n",
            "Object's image saved in /content/drive/My Drive/Colab Notebooks/ImageAI/a3new.jpg-objects/person-11.jpg\n",
            "--------------------------------\n",
            "person  :  99.93664026260376  :  [966, 1806, 1445, 3024]\n",
            "Object's image saved in /content/drive/My Drive/Colab Notebooks/ImageAI/a3new.jpg-objects/person-12.jpg\n",
            "--------------------------------\n"
          ],
          "name": "stdout"
        }
      ]
    },
    {
      "cell_type": "code",
      "metadata": {
        "id": "uF2Df1r3QGWv",
        "colab_type": "code",
        "colab": {}
      },
      "source": [
        ""
      ],
      "execution_count": 0,
      "outputs": []
    },
    {
      "cell_type": "code",
      "metadata": {
        "id": "2aD8OkEVBMmp",
        "colab_type": "code",
        "outputId": "7ad78245-d31a-4204-d3f5-3384d87338e5",
        "colab": {
          "base_uri": "https://localhost:8080/",
          "height": 91
        }
      },
      "source": [
        "# Profession predictor\n",
        "\n",
        "\n",
        "from imageai.Prediction.Custom import CustomImagePrediction\n",
        "import os\n",
        "\n",
        "execution_path = os.getcwd()\n",
        "\n",
        "prediction = CustomImagePrediction()\n",
        "prediction.setModelTypeAsResNet()\n",
        "prediction.setModelPath(\"/content/drive/My Drive/Colab Notebooks/ImageAI/idenprof_061-0.7933.h5\")\n",
        "prediction.setJsonPath(\"/content/drive/My Drive/Colab Notebooks/ImageAI/idenprof_model_class.json\")\n",
        "prediction.loadModel(num_objects=10)\n",
        "\n",
        "predictions, probabilities = prediction.predictImage(\"/content/drive/My Drive/Colab Notebooks/ImageAI/waiter.jpg\", result_count=3)\n",
        "\n",
        "for eachPrediction, eachProbability in zip(predictions, probabilities):\n",
        "    print(eachPrediction , \" : \" , eachProbability)"
      ],
      "execution_count": 0,
      "outputs": [
        {
          "output_type": "stream",
          "text": [
            "WARNING:tensorflow:When passing input data as arrays, do not specify `steps_per_epoch`/`steps` argument. Please use `batch_size` instead.\n",
            "waiter  :  99.85270500183105\n",
            "pilot  :  0.14384534442797303\n",
            "chef  :  0.0029477832867996767\n"
          ],
          "name": "stdout"
        }
      ]
    },
    {
      "cell_type": "code",
      "metadata": {
        "id": "LBNthsBo6o24",
        "colab_type": "code",
        "colab": {}
      },
      "source": [
        ""
      ],
      "execution_count": 0,
      "outputs": []
    }
  ]
}