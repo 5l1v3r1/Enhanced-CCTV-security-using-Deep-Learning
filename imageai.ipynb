{
  "nbformat": 4,
  "nbformat_minor": 0,
  "metadata": {
    "colab": {
      "name": "imageai.ipynb",
      "provenance": [],
      "collapsed_sections": [],
      "include_colab_link": true
    },
    "kernelspec": {
      "name": "python3",
      "display_name": "Python 3"
    },
    "accelerator": "TPU"
  },
  "cells": [
    {
      "cell_type": "markdown",
      "metadata": {
        "id": "view-in-github",
        "colab_type": "text"
      },
      "source": [
        "<a href=\"https://colab.research.google.com/github/VirtualGoat/Enhanced-CCTV-security-using-DL/blob/master/imageai.ipynb\" target=\"_parent\"><img src=\"https://colab.research.google.com/assets/colab-badge.svg\" alt=\"Open In Colab\"/></a>"
      ]
    },
    {
      "cell_type": "code",
      "metadata": {
        "id": "lau2hAev6NZC",
        "colab_type": "code",
        "outputId": "722d7ee9-0e22-410a-de88-e0e649a9389d",
        "colab": {
          "base_uri": "https://localhost:8080/",
          "height": 332
        }
      },
      "source": [
        "!pip install imageAI"
      ],
      "execution_count": 1,
      "outputs": [
        {
          "output_type": "stream",
          "text": [
            "Collecting imageAI\n",
            "\u001b[?25l  Downloading https://files.pythonhosted.org/packages/09/99/4023e191a343fb23f01ae02ac57a5ca58037c310e8d8c62f87638a3bafc7/imageai-2.1.5-py3-none-any.whl (180kB)\n",
            "\r\u001b[K     |█▉                              | 10kB 18.2MB/s eta 0:00:01\r\u001b[K     |███▋                            | 20kB 1.8MB/s eta 0:00:01\r\u001b[K     |█████▍                          | 30kB 2.1MB/s eta 0:00:01\r\u001b[K     |███████▎                        | 40kB 2.0MB/s eta 0:00:01\r\u001b[K     |█████████                       | 51kB 2.2MB/s eta 0:00:01\r\u001b[K     |██████████▉                     | 61kB 2.7MB/s eta 0:00:01\r\u001b[K     |████████████▊                   | 71kB 2.7MB/s eta 0:00:01\r\u001b[K     |██████████████▌                 | 81kB 2.7MB/s eta 0:00:01\r\u001b[K     |████████████████▎               | 92kB 3.0MB/s eta 0:00:01\r\u001b[K     |██████████████████▏             | 102kB 3.0MB/s eta 0:00:01\r\u001b[K     |████████████████████            | 112kB 3.0MB/s eta 0:00:01\r\u001b[K     |█████████████████████▊          | 122kB 3.0MB/s eta 0:00:01\r\u001b[K     |███████████████████████▋        | 133kB 3.0MB/s eta 0:00:01\r\u001b[K     |█████████████████████████▍      | 143kB 3.0MB/s eta 0:00:01\r\u001b[K     |███████████████████████████▏    | 153kB 3.0MB/s eta 0:00:01\r\u001b[K     |█████████████████████████████   | 163kB 3.0MB/s eta 0:00:01\r\u001b[K     |██████████████████████████████▉ | 174kB 3.0MB/s eta 0:00:01\r\u001b[K     |████████████████████████████████| 184kB 3.0MB/s \n",
            "\u001b[?25hRequirement already satisfied: matplotlib in /usr/local/lib/python3.6/dist-packages (from imageAI) (3.1.2)\n",
            "Requirement already satisfied: numpy in /usr/local/lib/python3.6/dist-packages (from imageAI) (1.17.5)\n",
            "Requirement already satisfied: scipy in /usr/local/lib/python3.6/dist-packages (from imageAI) (1.4.1)\n",
            "Requirement already satisfied: h5py in /usr/local/lib/python3.6/dist-packages (from imageAI) (2.8.0)\n",
            "Requirement already satisfied: pillow in /usr/local/lib/python3.6/dist-packages (from imageAI) (6.2.2)\n",
            "Requirement already satisfied: cycler>=0.10 in /usr/local/lib/python3.6/dist-packages (from matplotlib->imageAI) (0.10.0)\n",
            "Requirement already satisfied: kiwisolver>=1.0.1 in /usr/local/lib/python3.6/dist-packages (from matplotlib->imageAI) (1.1.0)\n",
            "Requirement already satisfied: python-dateutil>=2.1 in /usr/local/lib/python3.6/dist-packages (from matplotlib->imageAI) (2.6.1)\n",
            "Requirement already satisfied: pyparsing!=2.0.4,!=2.1.2,!=2.1.6,>=2.0.1 in /usr/local/lib/python3.6/dist-packages (from matplotlib->imageAI) (2.4.6)\n",
            "Requirement already satisfied: six in /usr/local/lib/python3.6/dist-packages (from h5py->imageAI) (1.12.0)\n",
            "Requirement already satisfied: setuptools in /usr/local/lib/python3.6/dist-packages (from kiwisolver>=1.0.1->matplotlib->imageAI) (42.0.2)\n",
            "Installing collected packages: imageAI\n",
            "Successfully installed imageAI-2.1.5\n"
          ],
          "name": "stdout"
        }
      ]
    },
    {
      "cell_type": "code",
      "metadata": {
        "id": "9F8Ttlq57Ww7",
        "colab_type": "code",
        "outputId": "07f6f8ee-e644-4baf-80a3-6e6492bad835",
        "colab": {
          "base_uri": "https://localhost:8080/",
          "height": 129
        }
      },
      "source": [
        "from google.colab import drive\n",
        "import os\n",
        "drive.mount('/content/drive/')"
      ],
      "execution_count": 2,
      "outputs": [
        {
          "output_type": "stream",
          "text": [
            "Go to this URL in a browser: https://accounts.google.com/o/oauth2/auth?client_id=947318989803-6bn6qk8qdgf4n4g3pfee6491hc0brc4i.apps.googleusercontent.com&redirect_uri=urn%3aietf%3awg%3aoauth%3a2.0%3aoob&response_type=code&scope=email%20https%3a%2f%2fwww.googleapis.com%2fauth%2fdocs.test%20https%3a%2f%2fwww.googleapis.com%2fauth%2fdrive%20https%3a%2f%2fwww.googleapis.com%2fauth%2fdrive.photos.readonly%20https%3a%2f%2fwww.googleapis.com%2fauth%2fpeopleapi.readonly\n",
            "\n",
            "Enter your authorization code:\n",
            "··········\n",
            "Mounted at /content/drive/\n"
          ],
          "name": "stdout"
        }
      ]
    },
    {
      "cell_type": "code",
      "metadata": {
        "id": "2aD8OkEVBMmp",
        "colab_type": "code",
        "colab": {
          "base_uri": "https://localhost:8080/",
          "height": 91
        },
        "outputId": "7ad78245-d31a-4204-d3f5-3384d87338e5"
      },
      "source": [
        "from imageai.Prediction.Custom import CustomImagePrediction\n",
        "import os\n",
        "\n",
        "execution_path = os.getcwd()\n",
        "\n",
        "prediction = CustomImagePrediction()\n",
        "prediction.setModelTypeAsResNet()\n",
        "prediction.setModelPath(\"/content/drive/My Drive/Colab Notebooks/ImageAI/idenprof_061-0.7933.h5\")\n",
        "prediction.setJsonPath(\"/content/drive/My Drive/Colab Notebooks/ImageAI/idenprof_model_class.json\")\n",
        "prediction.loadModel(num_objects=10)\n",
        "\n",
        "predictions, probabilities = prediction.predictImage(\"/content/drive/My Drive/Colab Notebooks/ImageAI/waiter.jpg\", result_count=3)\n",
        "\n",
        "for eachPrediction, eachProbability in zip(predictions, probabilities):\n",
        "    print(eachPrediction , \" : \" , eachProbability)"
      ],
      "execution_count": 4,
      "outputs": [
        {
          "output_type": "stream",
          "text": [
            "WARNING:tensorflow:When passing input data as arrays, do not specify `steps_per_epoch`/`steps` argument. Please use `batch_size` instead.\n",
            "waiter  :  99.85270500183105\n",
            "pilot  :  0.14384534442797303\n",
            "chef  :  0.0029477832867996767\n"
          ],
          "name": "stdout"
        }
      ]
    },
    {
      "cell_type": "code",
      "metadata": {
        "id": "LBNthsBo6o24",
        "colab_type": "code",
        "outputId": "4cba6bcb-1662-47ad-97fd-4c64c6f0a229",
        "colab": {
          "base_uri": "https://localhost:8080/",
          "height": 916
        }
      },
      "source": [
        "from imageai.Detection import ObjectDetection\n",
        "\n",
        "detector = ObjectDetection()\n",
        "\n",
        "model_path = \"/content/drive/My Drive/Colab Notebooks/ImageAI/resnet50_coco_best_v2.0.1.h5\"\n",
        "input_path = \"/content/drive/My Drive/Colab Notebooks/ImageAI/a.jpg\"\n",
        "output_path = \"/content/drive/My Drive/Colab Notebooks/ImageAI/a2.jpg\"\n",
        "\n",
        "#detector.setModelTypeAsYOLOv3()\n",
        "detector.setModelTypeAsRetinaNet()   \n",
        "\n",
        "detector.setModelPath(model_path)\n",
        "\n",
        "detector.loadModel()\n",
        "\n",
        "detection = detector.detectObjectsFromImage(input_image=input_path, output_image_path=output_path)\n",
        "\n",
        "for eachItem in detection:\n",
        "    print(eachItem[\"name\"] , \" : \", eachItem[\"percentage_probability\"])\n",
        "\n",
        "\n"
      ],
      "execution_count": 0,
      "outputs": [
        {
          "output_type": "stream",
          "text": [
            "Using TensorFlow backend.\n"
          ],
          "name": "stderr"
        },
        {
          "output_type": "display_data",
          "data": {
            "text/html": [
              "<p style=\"color: red;\">\n",
              "The default version of TensorFlow in Colab will soon switch to TensorFlow 2.x.<br>\n",
              "We recommend you <a href=\"https://www.tensorflow.org/guide/migrate\" target=\"_blank\">upgrade</a> now \n",
              "or ensure your notebook will continue to use TensorFlow 1.x via the <code>%tensorflow_version 1.x</code> magic:\n",
              "<a href=\"https://colab.research.google.com/notebooks/tensorflow_version.ipynb\" target=\"_blank\">more info</a>.</p>\n"
            ],
            "text/plain": [
              "<IPython.core.display.HTML object>"
            ]
          },
          "metadata": {
            "tags": []
          }
        },
        {
          "output_type": "stream",
          "text": [
            "WARNING:tensorflow:From /usr/local/lib/python3.6/dist-packages/keras/backend/tensorflow_backend.py:190: The name tf.get_default_session is deprecated. Please use tf.compat.v1.get_default_session instead.\n",
            "\n",
            "WARNING:tensorflow:From /usr/local/lib/python3.6/dist-packages/keras/backend/tensorflow_backend.py:197: The name tf.ConfigProto is deprecated. Please use tf.compat.v1.ConfigProto instead.\n",
            "\n",
            "WARNING:tensorflow:From /usr/local/lib/python3.6/dist-packages/keras/backend/tensorflow_backend.py:203: The name tf.Session is deprecated. Please use tf.compat.v1.Session instead.\n",
            "\n",
            "WARNING:tensorflow:From /usr/local/lib/python3.6/dist-packages/keras/backend/tensorflow_backend.py:207: The name tf.global_variables is deprecated. Please use tf.compat.v1.global_variables instead.\n",
            "\n",
            "WARNING:tensorflow:From /usr/local/lib/python3.6/dist-packages/keras/backend/tensorflow_backend.py:66: The name tf.get_default_graph is deprecated. Please use tf.compat.v1.get_default_graph instead.\n",
            "\n",
            "WARNING:tensorflow:From /usr/local/lib/python3.6/dist-packages/keras/backend/tensorflow_backend.py:541: The name tf.placeholder is deprecated. Please use tf.compat.v1.placeholder instead.\n",
            "\n",
            "WARNING:tensorflow:From /usr/local/lib/python3.6/dist-packages/keras/backend/tensorflow_backend.py:4432: The name tf.random_uniform is deprecated. Please use tf.random.uniform instead.\n",
            "\n",
            "WARNING:tensorflow:From /usr/local/lib/python3.6/dist-packages/keras/backend/tensorflow_backend.py:2139: The name tf.nn.fused_batch_norm is deprecated. Please use tf.compat.v1.nn.fused_batch_norm instead.\n",
            "\n",
            "WARNING:tensorflow:From /usr/local/lib/python3.6/dist-packages/keras/backend/tensorflow_backend.py:4267: The name tf.nn.max_pool is deprecated. Please use tf.nn.max_pool2d instead.\n",
            "\n",
            "WARNING:tensorflow:From /usr/local/lib/python3.6/dist-packages/keras/backend/tensorflow_backend.py:4479: The name tf.truncated_normal is deprecated. Please use tf.random.truncated_normal instead.\n",
            "\n",
            "WARNING:tensorflow:From /usr/local/lib/python3.6/dist-packages/keras/backend/tensorflow_backend.py:4409: The name tf.random_normal is deprecated. Please use tf.random.normal instead.\n",
            "\n",
            "WARNING:tensorflow:From /usr/local/lib/python3.6/dist-packages/imageai/Detection/keras_retinanet/backend/tensorflow_backend.py:22: The name tf.image.resize_images is deprecated. Please use tf.image.resize instead.\n",
            "\n",
            "WARNING:tensorflow:From /usr/local/lib/python3.6/dist-packages/imageai/Detection/keras_retinanet/backend/tensorflow_backend.py:46: where (from tensorflow.python.ops.array_ops) is deprecated and will be removed in a future version.\n",
            "Instructions for updating:\n",
            "Use tf.where in 2.0, which has the same broadcast rule as np.where\n",
            "WARNING:tensorflow:From /usr/local/lib/python3.6/dist-packages/keras/backend/tensorflow_backend.py:216: The name tf.is_variable_initialized is deprecated. Please use tf.compat.v1.is_variable_initialized instead.\n",
            "\n",
            "WARNING:tensorflow:From /usr/local/lib/python3.6/dist-packages/keras/backend/tensorflow_backend.py:223: The name tf.variables_initializer is deprecated. Please use tf.compat.v1.variables_initializer instead.\n",
            "\n",
            "car  :  84.49889421463013\n",
            "person  :  57.87697434425354\n",
            "person  :  76.996910572052\n",
            "person  :  86.57629489898682\n",
            "person  :  75.05322694778442\n",
            "person  :  91.8962836265564\n",
            "person  :  88.98624777793884\n",
            "person  :  67.21959710121155\n",
            "person  :  66.36773347854614\n",
            "person  :  87.26763725280762\n",
            "person  :  79.5071005821228\n",
            "car  :  54.712867736816406\n",
            "person  :  98.83538484573364\n"
          ],
          "name": "stdout"
        }
      ]
    }
  ]
}