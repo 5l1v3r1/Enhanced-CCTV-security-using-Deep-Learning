{
  "nbformat": 4,
  "nbformat_minor": 0,
  "metadata": {
    "colab": {
      "name": "Video.ipynb",
      "provenance": [],
      "collapsed_sections": [],
      "authorship_tag": "ABX9TyMNmNlS5beLxxyDddPzFWPF",
      "include_colab_link": true
    },
    "kernelspec": {
      "name": "python3",
      "display_name": "Python 3"
    },
    "accelerator": "GPU"
  },
  "cells": [
    {
      "cell_type": "markdown",
      "metadata": {
        "id": "view-in-github",
        "colab_type": "text"
      },
      "source": [
        "<a href=\"https://colab.research.google.com/github/VirtualGoat/Enhanced-CCTV-security-using-DL/blob/master/Video.ipynb\" target=\"_parent\"><img src=\"https://colab.research.google.com/assets/colab-badge.svg\" alt=\"Open In Colab\"/></a>"
      ]
    },
    {
      "cell_type": "code",
      "metadata": {
        "id": "6IYk_I5dc-ut",
        "colab_type": "code",
        "outputId": "22e05fa1-d182-4f9f-b193-1f8ba1b779c9",
        "colab": {
          "base_uri": "https://localhost:8080/",
          "height": 332
        }
      },
      "source": [
        "!pip install imageAI"
      ],
      "execution_count": 1,
      "outputs": [
        {
          "output_type": "stream",
          "text": [
            "Collecting imageAI\n",
            "\u001b[?25l  Downloading https://files.pythonhosted.org/packages/09/99/4023e191a343fb23f01ae02ac57a5ca58037c310e8d8c62f87638a3bafc7/imageai-2.1.5-py3-none-any.whl (180kB)\n",
            "\r\u001b[K     |█▉                              | 10kB 27.5MB/s eta 0:00:01\r\u001b[K     |███▋                            | 20kB 2.2MB/s eta 0:00:01\r\u001b[K     |█████▍                          | 30kB 2.8MB/s eta 0:00:01\r\u001b[K     |███████▎                        | 40kB 2.1MB/s eta 0:00:01\r\u001b[K     |█████████                       | 51kB 2.3MB/s eta 0:00:01\r\u001b[K     |██████████▉                     | 61kB 2.8MB/s eta 0:00:01\r\u001b[K     |████████████▊                   | 71kB 3.0MB/s eta 0:00:01\r\u001b[K     |██████████████▌                 | 81kB 3.3MB/s eta 0:00:01\r\u001b[K     |████████████████▎               | 92kB 3.7MB/s eta 0:00:01\r\u001b[K     |██████████████████▏             | 102kB 3.4MB/s eta 0:00:01\r\u001b[K     |████████████████████            | 112kB 3.4MB/s eta 0:00:01\r\u001b[K     |█████████████████████▊          | 122kB 3.4MB/s eta 0:00:01\r\u001b[K     |███████████████████████▋        | 133kB 3.4MB/s eta 0:00:01\r\u001b[K     |█████████████████████████▍      | 143kB 3.4MB/s eta 0:00:01\r\u001b[K     |███████████████████████████▏    | 153kB 3.4MB/s eta 0:00:01\r\u001b[K     |█████████████████████████████   | 163kB 3.4MB/s eta 0:00:01\r\u001b[K     |██████████████████████████████▉ | 174kB 3.4MB/s eta 0:00:01\r\u001b[K     |████████████████████████████████| 184kB 3.4MB/s \n",
            "\u001b[?25hRequirement already satisfied: scipy in /usr/local/lib/python3.6/dist-packages (from imageAI) (1.4.1)\n",
            "Requirement already satisfied: numpy in /usr/local/lib/python3.6/dist-packages (from imageAI) (1.17.5)\n",
            "Requirement already satisfied: matplotlib in /usr/local/lib/python3.6/dist-packages (from imageAI) (3.1.2)\n",
            "Requirement already satisfied: pillow in /usr/local/lib/python3.6/dist-packages (from imageAI) (6.2.2)\n",
            "Requirement already satisfied: h5py in /usr/local/lib/python3.6/dist-packages (from imageAI) (2.8.0)\n",
            "Requirement already satisfied: cycler>=0.10 in /usr/local/lib/python3.6/dist-packages (from matplotlib->imageAI) (0.10.0)\n",
            "Requirement already satisfied: pyparsing!=2.0.4,!=2.1.2,!=2.1.6,>=2.0.1 in /usr/local/lib/python3.6/dist-packages (from matplotlib->imageAI) (2.4.6)\n",
            "Requirement already satisfied: python-dateutil>=2.1 in /usr/local/lib/python3.6/dist-packages (from matplotlib->imageAI) (2.6.1)\n",
            "Requirement already satisfied: kiwisolver>=1.0.1 in /usr/local/lib/python3.6/dist-packages (from matplotlib->imageAI) (1.1.0)\n",
            "Requirement already satisfied: six in /usr/local/lib/python3.6/dist-packages (from h5py->imageAI) (1.12.0)\n",
            "Requirement already satisfied: setuptools in /usr/local/lib/python3.6/dist-packages (from kiwisolver>=1.0.1->matplotlib->imageAI) (42.0.2)\n",
            "Installing collected packages: imageAI\n",
            "Successfully installed imageAI-2.1.5\n"
          ],
          "name": "stdout"
        }
      ]
    },
    {
      "cell_type": "code",
      "metadata": {
        "id": "5l3cy2s9dDCd",
        "colab_type": "code",
        "outputId": "ce79f826-4d64-4153-ab67-b4923123cfdb",
        "colab": {
          "base_uri": "https://localhost:8080/",
          "height": 129
        }
      },
      "source": [
        "from google.colab import drive\n",
        "import os\n",
        "drive.mount('/content/drive/')"
      ],
      "execution_count": 2,
      "outputs": [
        {
          "output_type": "stream",
          "text": [
            "Go to this URL in a browser: https://accounts.google.com/o/oauth2/auth?client_id=947318989803-6bn6qk8qdgf4n4g3pfee6491hc0brc4i.apps.googleusercontent.com&redirect_uri=urn%3aietf%3awg%3aoauth%3a2.0%3aoob&response_type=code&scope=email%20https%3a%2f%2fwww.googleapis.com%2fauth%2fdocs.test%20https%3a%2f%2fwww.googleapis.com%2fauth%2fdrive%20https%3a%2f%2fwww.googleapis.com%2fauth%2fdrive.photos.readonly%20https%3a%2f%2fwww.googleapis.com%2fauth%2fpeopleapi.readonly\n",
            "\n",
            "Enter your authorization code:\n",
            "··········\n",
            "Mounted at /content/drive/\n"
          ],
          "name": "stdout"
        }
      ]
    },
    {
      "cell_type": "code",
      "metadata": {
        "id": "gVVcitDIfn_3",
        "colab_type": "code",
        "colab": {}
      },
      "source": [
        "def forFrame(frame_number, output_array, output_count, detected_copy):\n",
        "    print(\"FOR FRAME \" , frame_number)\n",
        "#    print(\"Output for each object : \", output_array)\n",
        "    print(\"Output count for unique objects : \", output_count)\n",
        "    print(\"------------END OF A FRAME --------------\")\n",
        "\n",
        "def forSeconds(second_number, output_arrays, count_arrays, average_output_count, detected_copy):\n",
        "    print(\"SECOND : \", second_number)\n",
        "#    print(\"Array for the outputs of each frame \", output_arrays)\n",
        "    print(\"Array for output count for unique objects in each frame : \", count_arrays)\n",
        "    print(\"Output average count for unique objects in the last second: \", average_output_count)\n",
        "    print(\"------------END OF A SECOND --------------\")\n",
        "\n",
        "def forMinute(minute_number, output_arrays, count_arrays, average_output_count, detected_copy):\n",
        "    print(\"MINUTE : \", minute_number)\n",
        "#    print(\"Array for the outputs of each frame \", output_arrays)\n",
        "    print(\"Array for output count for unique objects in each frame : \", count_arrays)\n",
        "    print(\"Output average count for unique objects in the last minute: \", average_output_count)\n",
        "    print(\"------------END OF A MINUTE --------------\")"
      ],
      "execution_count": 0,
      "outputs": []
    },
    {
      "cell_type": "code",
      "metadata": {
        "id": "0dQkm4HldEju",
        "colab_type": "code",
        "outputId": "6b2d7b9a-380c-4493-e449-8f2e7745b6ff",
        "colab": {
          "base_uri": "https://localhost:8080/",
          "height": 35
        }
      },
      "source": [
        "yolo_path = '/content/drive/My Drive/Colab Notebooks/ImageAI/'\n",
        "video_path = '/content/drive/My Drive/Colab Notebooks/ImageAI/'\n",
        "execution_path = os.getcwd()\n",
        "print(execution_path)\n"
      ],
      "execution_count": 5,
      "outputs": [
        {
          "output_type": "stream",
          "text": [
            "/content\n"
          ],
          "name": "stdout"
        }
      ]
    },
    {
      "cell_type": "code",
      "metadata": {
        "id": "Z4jGivJ5fsfo",
        "colab_type": "code",
        "outputId": "2fdd574a-7d40-4a74-df49-a88e01b47266",
        "colab": {
          "base_uri": "https://localhost:8080/",
          "height": 35
        }
      },
      "source": [
        "use_model = \"yolo.h5\"\n",
        "use_video=\"cctv.mp4\"\n",
        "from imageai.Detection import VideoObjectDetection\n",
        "import cv2\n",
        "analisys_video = \"detected_\" + use_video\n",
        "\n",
        "detector = VideoObjectDetection()\n",
        "camera = cv2.VideoCapture(\"https://www.earthcam.com/usa/louisiana/neworleans/bourbonstreet/?cam=bourbonstreet\")\n",
        "# Iniciate model\n",
        "detector.setModelTypeAsYOLOv3()      # To YOLOv3 model\n",
        "#detector.setModelTypeAsRetinaNet()   # To Retinanet model\n",
        "#detector.setModelTypeAsTinyYOLOv3()   # To TinyYOLOv3 model\n",
        "\n",
        "detector.setModelPath( os.path.join(yolo_path , use_model))\n",
        "detector.loadModel()\n",
        "\n",
        "vid_path = detector.detectObjectsFromVideo(camera_input=camera,\n",
        "                                         # input_file_path=os.path.join( video_path, use_video),\n",
        "                                           output_file_path=os.path.join(video_path, analisys_video),\n",
        "                                           frames_per_second=30,\n",
        "                                 #          per_second_function = forSeconds,\n",
        "                                           per_frame_function = forFrame,\n",
        "                                 #          per_minute_function= forMinute,\n",
        "                                           minimum_percentage_probability=30,\n",
        "                                           log_progress=True,\n",
        "                                           return_detected_frame=True)\n",
        "                                           \n",
        "\n",
        "print(vid_path)"
      ],
      "execution_count": 9,
      "outputs": [
        {
          "output_type": "stream",
          "text": [
            "/content/drive/My Drive/Colab Notebooks/ImageAI/detected_cctv.mp4.avi\n"
          ],
          "name": "stdout"
        }
      ]
    }
  ]
}